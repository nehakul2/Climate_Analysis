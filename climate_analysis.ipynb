{
 "cells": [
  {
   "cell_type": "markdown",
   "metadata": {},
   "source": [
    "### Climate Analysis and Exploration"
   ]
  },
  {
   "cell_type": "code",
   "execution_count": 84,
   "metadata": {
    "collapsed": true
   },
   "outputs": [],
   "source": [
    "# Import our dependencies\n",
    "import pandas as pd\n",
    "import os\n",
    "from pathlib import Path\n",
    "import csv\n",
    "import matplotlib.pyplot as plt\n",
    "import numpy as np"
   ]
  },
  {
   "cell_type": "code",
   "execution_count": 85,
   "metadata": {
    "collapsed": true
   },
   "outputs": [],
   "source": [
    "# Python SQL toolkit and Object Relational Mapper\n",
    "import sqlalchemy\n",
    "from sqlalchemy.sql import label\n",
    "from sqlalchemy import func\n",
    "from sqlalchemy.ext.automap import automap_base\n",
    "from sqlalchemy.orm import Session\n",
    "from sqlalchemy import create_engine\n",
    "import pandas as pd\n",
    "from sqlalchemy import Column, Integer, String, Numeric, Text, Float,Table,ForeignKey\n",
    "from flask import jsonify\n",
    "\n",
    "import matplotlib.pyplot as plt\n",
    "from matplotlib import cm\n",
    "import matplotlib\n",
    "\n",
    "from datetime import datetime,timedelta"
   ]
  },
  {
   "cell_type": "code",
   "execution_count": 86,
   "metadata": {
    "collapsed": true
   },
   "outputs": [],
   "source": [
    "# Use a Session to test the Measurement class\n",
    "engine = create_engine(\"sqlite:///hawaii.sqlite\")"
   ]
  },
  {
   "cell_type": "code",
   "execution_count": 87,
   "metadata": {
    "collapsed": true
   },
   "outputs": [],
   "source": [
    "# Declare a Base using `automap_base()`\n",
    "Base = automap_base()\n",
    "\n",
    "Base.prepare(engine, reflect=True)\n",
    "Base.classes.keys()\n",
    "\n",
    "Measurement = Base.classes.measurement\n",
    "Station = Base.classes.station"
   ]
  },
  {
   "cell_type": "code",
   "execution_count": 88,
   "metadata": {
    "collapsed": true
   },
   "outputs": [],
   "source": [
    "# create a session\n",
    "session = Session(engine)\n",
    "my_table = Table('Measurement', Base.metadata,\n",
    "   Column(\"station\", String, ForeignKey(\"Station.station\")),\n",
    "   autoload=True,autoload_with=engine)"
   ]
  },
  {
   "cell_type": "code",
   "execution_count": 89,
   "metadata": {},
   "outputs": [
    {
     "data": {
      "text/plain": [
       "[(1, 'USC00519397', '2010-01-01', 0.08, 65),\n",
       " (2, 'USC00519397', '2010-01-02', 0.0, 63),\n",
       " (3, 'USC00519397', '2010-01-03', 0.0, 74),\n",
       " (4, 'USC00519397', '2010-01-04', 0.0, 76),\n",
       " (5, 'USC00519397', '2010-01-07', 0.06, 70),\n",
       " (6, 'USC00519397', '2010-01-08', 0.0, 64),\n",
       " (7, 'USC00519397', '2010-01-09', 0.0, 68),\n",
       " (8, 'USC00519397', '2010-01-10', 0.0, 73),\n",
       " (9, 'USC00519397', '2010-01-11', 0.01, 64),\n",
       " (10, 'USC00519397', '2010-01-12', 0.0, 61)]"
      ]
     },
     "execution_count": 89,
     "metadata": {},
     "output_type": "execute_result"
    }
   ],
   "source": [
    "#checking data in the measurement table\n",
    "engine.execute('SELECT * FROM measurement LIMIT 10').fetchall()"
   ]
  },
  {
   "cell_type": "code",
   "execution_count": 90,
   "metadata": {},
   "outputs": [
    {
     "data": {
      "text/plain": [
       "[(1, 'USC00519397', 'WAIKIKI 717.2, HI US', 21.2716, -157.8168, 3.0),\n",
       " (2, 'USC00513117', 'KANEOHE 838.1, HI US', 21.4234, -157.8015, 14.6),\n",
       " (3, 'USC00514830', 'KUALOA RANCH HEADQUARTERS 886.9, HI US', 21.5213, -157.8374, 7.0),\n",
       " (4, 'USC00517948', 'PEARL CITY, HI US', 21.3934, -157.9751, 11.9),\n",
       " (5, 'USC00518838', 'UPPER WAHIAWA 874.3, HI US', 21.4992, -158.0111, 306.6),\n",
       " (6, 'USC00519523', 'WAIMANALO EXPERIMENTAL FARM, HI US', 21.33556, -157.71139, 19.5),\n",
       " (7, 'USC00519281', 'WAIHEE 837.5, HI US', 21.45167, -157.84888999999995, 32.9),\n",
       " (8, 'USC00511918', 'HONOLULU OBSERVATORY 702.2, HI US', 21.3152, -157.9992, 0.9),\n",
       " (9, 'USC00516128', 'MANOA LYON ARBO 785.2, HI US', 21.3331, -157.8025, 152.4)]"
      ]
     },
     "execution_count": 90,
     "metadata": {},
     "output_type": "execute_result"
    }
   ],
   "source": [
    "#checking data in the station table\n",
    "engine.execute('SELECT * FROM station LIMIT 10').fetchall()"
   ]
  },
  {
   "cell_type": "code",
   "execution_count": 91,
   "metadata": {
    "collapsed": true
   },
   "outputs": [],
   "source": [
    "# Start a session to query the database\n",
    "session = Session(engine)"
   ]
  },
  {
   "cell_type": "code",
   "execution_count": 92,
   "metadata": {},
   "outputs": [
    {
     "data": {
      "text/plain": [
       "[(1, 'USC00519397', '2010-01-01', 0.08, 65),\n",
       " (2, 'USC00519397', '2010-01-02', 0.0, 63),\n",
       " (3, 'USC00519397', '2010-01-03', 0.0, 74),\n",
       " (4, 'USC00519397', '2010-01-04', 0.0, 76),\n",
       " (5, 'USC00519397', '2010-01-07', 0.06, 70)]"
      ]
     },
     "execution_count": 92,
     "metadata": {},
     "output_type": "execute_result"
    }
   ],
   "source": [
    "engine.execute(\"select * from measurement limit 5\").fetchall()"
   ]
  },
  {
   "cell_type": "code",
   "execution_count": 93,
   "metadata": {
    "collapsed": true
   },
   "outputs": [],
   "source": [
    "start_date = '2010-01-01'"
   ]
  },
  {
   "cell_type": "code",
   "execution_count": 94,
   "metadata": {
    "collapsed": true
   },
   "outputs": [],
   "source": [
    "end_date = '2011-01-01'"
   ]
  },
  {
   "cell_type": "code",
   "execution_count": 95,
   "metadata": {
    "collapsed": true
   },
   "outputs": [],
   "source": [
    "# Query measurements table and save the query into results\n",
    "results = engine.execute(\"select * from measurement limit 5\").fetchall()\n",
    "current_time = datetime.now()\n",
    "past_year = current_time - timedelta(days=365)\n",
    "measurements_year = session.query(Measurement.date,Measurement.prcp).filter(Measurement.date > past_year).all()"
   ]
  },
  {
   "cell_type": "markdown",
   "metadata": {},
   "source": [
    "### Precipitation Analysis"
   ]
  },
  {
   "cell_type": "code",
   "execution_count": 96,
   "metadata": {
    "collapsed": true
   },
   "outputs": [],
   "source": [
    "def precipitation_data():\n",
    "   #Get date for last year\n",
    "   current_time = datetime.now()\n",
    "   past_year = current_time - timedelta(days=365)\n",
    "   measurements_year = session.query(Measurement.date,Measurement.prcp).filter(Measurement.date > past_year).all()\n",
    "   \n",
    "   #created dictionary to get the data\n",
    "   measure_records = []\n",
    "   for measure in measurements_year:\n",
    "       measure_records.append(measure._asdict())\n",
    "   \n",
    "   #dictionary to dataframe\n",
    "   measurements_df = pd.DataFrame.from_records(measure_records)\n",
    "   measurements_df = measurements_df.set_index('date')\n",
    "\n",
    "   return measurements_df\n",
    "\n"
   ]
  },
  {
   "cell_type": "code",
   "execution_count": 97,
   "metadata": {},
   "outputs": [
    {
     "data": {
      "text/html": [
       "<div>\n",
       "<style>\n",
       "    .dataframe thead tr:only-child th {\n",
       "        text-align: right;\n",
       "    }\n",
       "\n",
       "    .dataframe thead th {\n",
       "        text-align: left;\n",
       "    }\n",
       "\n",
       "    .dataframe tbody tr th {\n",
       "        vertical-align: top;\n",
       "    }\n",
       "</style>\n",
       "<table border=\"1\" class=\"dataframe\">\n",
       "  <thead>\n",
       "    <tr style=\"text-align: right;\">\n",
       "      <th></th>\n",
       "      <th>prcp</th>\n",
       "    </tr>\n",
       "    <tr>\n",
       "      <th>date</th>\n",
       "      <th></th>\n",
       "    </tr>\n",
       "  </thead>\n",
       "  <tbody>\n",
       "    <tr>\n",
       "      <th>2017-02-08</th>\n",
       "      <td>0.00</td>\n",
       "    </tr>\n",
       "    <tr>\n",
       "      <th>2017-02-09</th>\n",
       "      <td>0.00</td>\n",
       "    </tr>\n",
       "    <tr>\n",
       "      <th>2017-02-10</th>\n",
       "      <td>0.00</td>\n",
       "    </tr>\n",
       "    <tr>\n",
       "      <th>2017-02-11</th>\n",
       "      <td>0.31</td>\n",
       "    </tr>\n",
       "    <tr>\n",
       "      <th>2017-02-12</th>\n",
       "      <td>2.62</td>\n",
       "    </tr>\n",
       "  </tbody>\n",
       "</table>\n",
       "</div>"
      ],
      "text/plain": [
       "            prcp\n",
       "date            \n",
       "2017-02-08  0.00\n",
       "2017-02-09  0.00\n",
       "2017-02-10  0.00\n",
       "2017-02-11  0.31\n",
       "2017-02-12  2.62"
      ]
     },
     "execution_count": 97,
     "metadata": {},
     "output_type": "execute_result"
    }
   ],
   "source": [
    "prec_df=precipitation_data()\n",
    "prec_df.head()\n"
   ]
  },
  {
   "cell_type": "code",
   "execution_count": 98,
   "metadata": {},
   "outputs": [
    {
     "data": {
      "image/png": "[encoded data removed]",
      "text/plain": [
       "<matplotlib.figure.Figure at 0x11317e320>"
      ]
     },
     "metadata": {},
     "output_type": "display_data"
    }
   ],
   "source": [
    "prec_df.plot(kind=\"line\" , linewidth = 4,  color='b',alpha=0.5,figsize=(15,10))\n",
    "plt.title(\"Precipitation Analysis\")\n",
    "plt.xlabel(\"Date\")\n",
    "plt.ylabel(\"Precipitation\")\n",
    "plt.tight_layout()\n",
    "\n",
    "plt.show()"
   ]
  },
  {
   "cell_type": "markdown",
   "metadata": {},
   "source": [
    "### Station Analysis"
   ]
  },
  {
   "cell_type": "code",
   "execution_count": 99,
   "metadata": {},
   "outputs": [
    {
     "data": {
      "text/plain": [
       "[(1, 'USC00519397', 'WAIKIKI 717.2, HI US', 21.2716, -157.8168, 3.0),\n",
       " (2, 'USC00513117', 'KANEOHE 838.1, HI US', 21.4234, -157.8015, 14.6),\n",
       " (3, 'USC00514830', 'KUALOA RANCH HEADQUARTERS 886.9, HI US', 21.5213, -157.8374, 7.0),\n",
       " (4, 'USC00517948', 'PEARL CITY, HI US', 21.3934, -157.9751, 11.9),\n",
       " (5, 'USC00518838', 'UPPER WAHIAWA 874.3, HI US', 21.4992, -158.0111, 306.6),\n",
       " (6, 'USC00519523', 'WAIMANALO EXPERIMENTAL FARM, HI US', 21.33556, -157.71139, 19.5),\n",
       " (7, 'USC00519281', 'WAIHEE 837.5, HI US', 21.45167, -157.84888999999995, 32.9),\n",
       " (8, 'USC00511918', 'HONOLULU OBSERVATORY 702.2, HI US', 21.3152, -157.9992, 0.9),\n",
       " (9, 'USC00516128', 'MANOA LYON ARBO 785.2, HI US', 21.3331, -157.8025, 152.4)]"
      ]
     },
     "execution_count": 99,
     "metadata": {},
     "output_type": "execute_result"
    }
   ],
   "source": [
    "#Design a query to calculate the total number of stations.\n",
    "engine.execute(\"select * from station\").fetchall()"
   ]
  },
  {
   "cell_type": "code",
   "execution_count": 100,
   "metadata": {
    "collapsed": true
   },
   "outputs": [],
   "source": [
    "#Creating the query to get active stations\n",
    "active_stations = session.query(Station.name,Station.station,label('number_of_obs',func.count(Measurement.id))).\\\n",
    "                   filter(Measurement.station == Station.station).group_by(Station.name,Station.station).order_by(func.count(Measurement.id).desc())"
   ]
  },
  {
   "cell_type": "code",
   "execution_count": 101,
   "metadata": {
    "collapsed": true
   },
   "outputs": [],
   "source": [
    "#Design a query to find the most active stations.\n",
    "#List the stations and observation counts in descending order\n",
    "\n",
    "def station_data():\n",
    "   active_stations = session.query(Station.name,Station.station,label('number_of_obs',func.count(Measurement.id))).\\\n",
    "                   filter(Measurement.station == Station.station).group_by(Station.name,Station.station).order_by(func.count(Measurement.id).desc())\n",
    "   #created dictionary to get the data\n",
    "   measure_records = []\n",
    "   for measure in active_stations:\n",
    "       measure_records.append(measure._asdict())\n",
    "   \n",
    "   #dictionary to dataframe\n",
    "   measurements_df = pd.DataFrame.from_records(measure_records)\n",
    "\n",
    "   return measurements_df"
   ]
  },
  {
   "cell_type": "code",
   "execution_count": 102,
   "metadata": {},
   "outputs": [
    {
     "data": {
      "text/html": [
       "<div>\n",
       "<style>\n",
       "    .dataframe thead tr:only-child th {\n",
       "        text-align: right;\n",
       "    }\n",
       "\n",
       "    .dataframe thead th {\n",
       "        text-align: left;\n",
       "    }\n",
       "\n",
       "    .dataframe tbody tr th {\n",
       "        vertical-align: top;\n",
       "    }\n",
       "</style>\n",
       "<table border=\"1\" class=\"dataframe\">\n",
       "  <thead>\n",
       "    <tr style=\"text-align: right;\">\n",
       "      <th></th>\n",
       "      <th>name</th>\n",
       "      <th>number_of_obs</th>\n",
       "      <th>station</th>\n",
       "    </tr>\n",
       "  </thead>\n",
       "  <tbody>\n",
       "    <tr>\n",
       "      <th>0</th>\n",
       "      <td>WAIHEE 837.5, HI US</td>\n",
       "      <td>2772</td>\n",
       "      <td>USC00519281</td>\n",
       "    </tr>\n",
       "    <tr>\n",
       "      <th>1</th>\n",
       "      <td>KANEOHE 838.1, HI US</td>\n",
       "      <td>2696</td>\n",
       "      <td>USC00513117</td>\n",
       "    </tr>\n",
       "    <tr>\n",
       "      <th>2</th>\n",
       "      <td>WAIKIKI 717.2, HI US</td>\n",
       "      <td>2685</td>\n",
       "      <td>USC00519397</td>\n",
       "    </tr>\n",
       "    <tr>\n",
       "      <th>3</th>\n",
       "      <td>WAIMANALO EXPERIMENTAL FARM, HI US</td>\n",
       "      <td>2572</td>\n",
       "      <td>USC00519523</td>\n",
       "    </tr>\n",
       "    <tr>\n",
       "      <th>4</th>\n",
       "      <td>MANOA LYON ARBO 785.2, HI US</td>\n",
       "      <td>2484</td>\n",
       "      <td>USC00516128</td>\n",
       "    </tr>\n",
       "  </tbody>\n",
       "</table>\n",
       "</div>"
      ],
      "text/plain": [
       "                                 name  number_of_obs      station\n",
       "0                 WAIHEE 837.5, HI US           2772  USC00519281\n",
       "1                KANEOHE 838.1, HI US           2696  USC00513117\n",
       "2                WAIKIKI 717.2, HI US           2685  USC00519397\n",
       "3  WAIMANALO EXPERIMENTAL FARM, HI US           2572  USC00519523\n",
       "4        MANOA LYON ARBO 785.2, HI US           2484  USC00516128"
      ]
     },
     "execution_count": 102,
     "metadata": {},
     "output_type": "execute_result"
    }
   ],
   "source": [
    "station_df=station_data()\n",
    "station_df.head()"
   ]
  },
  {
   "cell_type": "code",
   "execution_count": 103,
   "metadata": {},
   "outputs": [
    {
     "name": "stdout",
     "output_type": "stream",
     "text": [
      "Station with highest number of observations  is :  USC00519281\n"
     ]
    }
   ],
   "source": [
    "#Which station has the highest number of observations?\n",
    "station_id = station_df.iloc[:1]['station'][0]\n",
    "print(\"Station with highest number of observations  is : \" ,station_id)"
   ]
  },
  {
   "cell_type": "code",
   "execution_count": 104,
   "metadata": {
    "collapsed": true
   },
   "outputs": [],
   "source": [
    "def temp_data():\n",
    "   #Get date for last year\n",
    "   current_time = datetime.now()\n",
    "   past_year = current_time - timedelta(days=365)\n",
    "   measurements_year = session.query(Measurement.date,Measurement.tobs).filter(Measurement.date > past_year).filter(Measurement.station ==station_id).all()\n",
    "   \n",
    "   #created dictionary to get the data\n",
    "   measure_records = []\n",
    "   for measure in measurements_year:\n",
    "       measure_records.append(measure._asdict())\n",
    "   \n",
    "   #dictionary to dataframe\n",
    "   measurements_df = pd.DataFrame.from_records(measure_records)\n",
    "   measurements_df = measurements_df.set_index('date')\n",
    "\n",
    "   return measurements_df"
   ]
  },
  {
   "cell_type": "code",
   "execution_count": 105,
   "metadata": {},
   "outputs": [
    {
     "data": {
      "text/html": [
       "<div>\n",
       "<style>\n",
       "    .dataframe thead tr:only-child th {\n",
       "        text-align: right;\n",
       "    }\n",
       "\n",
       "    .dataframe thead th {\n",
       "        text-align: left;\n",
       "    }\n",
       "\n",
       "    .dataframe tbody tr th {\n",
       "        vertical-align: top;\n",
       "    }\n",
       "</style>\n",
       "<table border=\"1\" class=\"dataframe\">\n",
       "  <thead>\n",
       "    <tr style=\"text-align: right;\">\n",
       "      <th></th>\n",
       "      <th>tobs</th>\n",
       "    </tr>\n",
       "    <tr>\n",
       "      <th>date</th>\n",
       "      <th></th>\n",
       "    </tr>\n",
       "  </thead>\n",
       "  <tbody>\n",
       "    <tr>\n",
       "      <th>2017-02-08</th>\n",
       "      <td>59</td>\n",
       "    </tr>\n",
       "    <tr>\n",
       "      <th>2017-02-09</th>\n",
       "      <td>59</td>\n",
       "    </tr>\n",
       "    <tr>\n",
       "      <th>2017-02-10</th>\n",
       "      <td>62</td>\n",
       "    </tr>\n",
       "    <tr>\n",
       "      <th>2017-02-11</th>\n",
       "      <td>68</td>\n",
       "    </tr>\n",
       "    <tr>\n",
       "      <th>2017-02-12</th>\n",
       "      <td>70</td>\n",
       "    </tr>\n",
       "  </tbody>\n",
       "</table>\n",
       "</div>"
      ],
      "text/plain": [
       "            tobs\n",
       "date            \n",
       "2017-02-08    59\n",
       "2017-02-09    59\n",
       "2017-02-10    62\n",
       "2017-02-11    68\n",
       "2017-02-12    70"
      ]
     },
     "execution_count": 105,
     "metadata": {},
     "output_type": "execute_result"
    }
   ],
   "source": [
    "tobs_df= temp_data()\n",
    "tobs_df.head()"
   ]
  },
  {
   "cell_type": "code",
   "execution_count": 106,
   "metadata": {},
   "outputs": [
    {
     "data": {
      "image/png": "[encoded data removed]",
      "text/plain": [
       "<matplotlib.figure.Figure at 0x11385deb8>"
      ]
     },
     "metadata": {},
     "output_type": "display_data"
    }
   ],
   "source": [
    "#draw histogram for temperature\n",
    "tobs_df.plot.hist(alpha=0.5,bins=12 ,figsize=(10,10))\n",
    "\n",
    "plt.xlabel('Tobs')\n",
    "plt.ylabel('Freuency')\n",
    "plt.title('Histogram of : temperature observation data')\n",
    "plt.show()"
   ]
  },
  {
   "cell_type": "markdown",
   "metadata": {
    "collapsed": true
   },
   "source": [
    "### Temperature Analysis"
   ]
  },
  {
   "cell_type": "code",
   "execution_count": 107,
   "metadata": {
    "collapsed": true
   },
   "outputs": [],
   "source": [
    " #Write a function called `calc_temps` that will accept a start date and end date in the format `%Y-%m-%d` and return the minimum, average, and maximum temperatures for that range of dates.\n",
    "#startdate = \"2016-01-02\"\n",
    "#enddate = \"2017-01-02\"\n",
    "\n",
    "def calc_temps(startdate,enddate):\n",
    "   temperature_vacation = session.query(label('max_temp',func.max(Measurement.tobs)),\\\n",
    "                                    label('min_temp',func.min(Measurement.tobs)),\\\n",
    "                                    label('avg_temp',func.avg(Measurement.tobs))).\\\n",
    "                   filter(Measurement.date >= startdate).\\\n",
    "                   filter(Measurement.date <= enddate )\n",
    "\n",
    "   Max_temp = temperature_vacation[0].max_temp\n",
    "   Min_temp = temperature_vacation[0].min_temp\n",
    "   Avg_temp = temperature_vacation[0].avg_temp\n",
    "\n",
    "   print(\"Tempture for date range:\",Max_temp ,Min_temp,Avg_temp)\n",
    "   print(\"Last year tempature for same date range :Max Temp,MIN temp,Avg temp :\", Max_temp,Min_temp,Avg_temp)\n",
    "   \n",
    "   yerror = Max_temp - Min_temp\n",
    "   \n",
    "   barvalue = [Avg_temp]\n",
    "   xvals = range(len(barvalue))\n",
    "   matplotlib.rcParams.update({'font.size': 12})\n",
    "   \n",
    "   fig,ax = plt.subplots(figsize=(5,8))\n",
    "   ax.bar(xvals, barvalue, yerr=yerror, color='g',alpha=0.6)\n",
    "   ax.set_xticks([1])\n",
    "   plt.xlabel(\"Vacation time period\")\n",
    "   plt.ylabel(\"Temperature\")\n",
    "   plt.title(\"Trip average temperature\")\n",
    "   plt.tight_layout()\n",
    "   plt.savefig(\"Tripavg.png\")\n",
    "   \n",
    "   plt.show() "
   ]
  },
  {
   "cell_type": "code",
   "execution_count": 114,
   "metadata": {},
   "outputs": [
    {
     "name": "stdout",
     "output_type": "stream",
     "text": [
      "please enter the start date in the format `%Y-%m-%d` :2016-01-02\n",
      "Tempture for date range: 84 56 74.09553831231814\n",
      "Last year tempature for same date range :Max Temp,MIN temp,Avg temp : 84 56 74.09553831231814\n"
     ]
    },
    {
     "data": {
      "image/png": "[encoded data removed]",
      "text/plain": [
       "<matplotlib.figure.Figure at 0x114226320>"
      ]
     },
     "metadata": {},
     "output_type": "display_data"
    }
   ],
   "source": [
    "#asking the user to enter the startdate and calculating the end date\n",
    "import datetime\n",
    "\n",
    "sdate = input(\"please enter the start date in the format `%Y-%m-%d` :\")\n",
    "startdate=datetime.datetime.strptime(sdate, \"%Y-%m-%d\")\n",
    "enddate = startdate + datetime.timedelta(days=365)\n",
    "calc_temps(startdate,enddate)"
   ]
  },
  {
   "cell_type": "code",
   "execution_count": null,
   "metadata": {
    "collapsed": true
   },
   "outputs": [],
   "source": []
  }
 ],
 "metadata": {
  "kernelspec": {
   "display_name": "Python 3",
   "language": "python",
   "name": "python3"
  },
  "language_info": {
   "codemirror_mode": {
    "name": "ipython",
    "version": 3
   },
   "file_extension": ".py",
   "mimetype": "text/x-python",
   "name": "python",
   "nbconvert_exporter": "python",
   "pygments_lexer": "ipython3",
   "version": "3.6.3"
  }
 },
 "nbformat": 4,
 "nbformat_minor": 2
}
